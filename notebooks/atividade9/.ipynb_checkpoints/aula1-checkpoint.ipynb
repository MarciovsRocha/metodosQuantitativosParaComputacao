{
 "cells": [
  {
   "cell_type": "markdown",
   "id": "3605a75e",
   "metadata": {},
   "source": [
    "### importar bibliotecas"
   ]
  },
  {
   "cell_type": "code",
   "execution_count": 1,
   "id": "e90627a0",
   "metadata": {},
   "outputs": [],
   "source": [
    "import pandas as pd\n",
    "import numpy as np\n",
    "import seaborn as sns\n",
    "import matplotlib.pyplot as plt"
   ]
  },
  {
   "cell_type": "markdown",
   "id": "7d7d81ac",
   "metadata": {},
   "source": [
    "### Atribui o dataset à uma variável (Data Frame) utilizando o método de leitura de arquivo CSV do pandas"
   ]
  },
  {
   "cell_type": "code",
   "execution_count": 2,
   "id": "3f85eee6",
   "metadata": {},
   "outputs": [],
   "source": [
    "# carregar dataset 2d do viegas\n",
    "viegasDataSet2D = 'https://secplab.ppgia.pucpr.br/ftp/viegas/ML/datasets/2d_dataset.csv'\n",
    "df = pd.read_csv(viegasDataSet2D)"
   ]
  },
  {
   "cell_type": "markdown",
   "id": "188955c0",
   "metadata": {},
   "source": [
    "### Últimos registros do data Frame"
   ]
  },
  {
   "cell_type": "code",
   "execution_count": 3,
   "id": "2a1f25a9",
   "metadata": {},
   "outputs": [
    {
     "data": {
      "text/html": [
       "<div>\n",
       "<style scoped>\n",
       "    .dataframe tbody tr th:only-of-type {\n",
       "        vertical-align: middle;\n",
       "    }\n",
       "\n",
       "    .dataframe tbody tr th {\n",
       "        vertical-align: top;\n",
       "    }\n",
       "\n",
       "    .dataframe thead th {\n",
       "        text-align: right;\n",
       "    }\n",
       "</style>\n",
       "<table border=\"1\" class=\"dataframe\">\n",
       "  <thead>\n",
       "    <tr style=\"text-align: right;\">\n",
       "      <th></th>\n",
       "      <th>y</th>\n",
       "      <th>alpha</th>\n",
       "      <th>beta</th>\n",
       "    </tr>\n",
       "  </thead>\n",
       "  <tbody>\n",
       "    <tr>\n",
       "      <th>2992</th>\n",
       "      <td>1</td>\n",
       "      <td>744</td>\n",
       "      <td>951</td>\n",
       "    </tr>\n",
       "    <tr>\n",
       "      <th>2993</th>\n",
       "      <td>1</td>\n",
       "      <td>152</td>\n",
       "      <td>690</td>\n",
       "    </tr>\n",
       "  </tbody>\n",
       "</table>\n",
       "</div>"
      ],
      "text/plain": [
       "      y  alpha  beta\n",
       "2992  1    744   951\n",
       "2993  1    152   690"
      ]
     },
     "execution_count": 3,
     "metadata": {},
     "output_type": "execute_result"
    }
   ],
   "source": [
    "df.tail(2)"
   ]
  },
  {
   "cell_type": "code",
   "execution_count": 4,
   "id": "fa5c387a",
   "metadata": {},
   "outputs": [
    {
     "data": {
      "text/plain": [
       "y        int64\n",
       "alpha    int64\n",
       "beta     int64\n",
       "dtype: object"
      ]
     },
     "execution_count": 4,
     "metadata": {},
     "output_type": "execute_result"
    }
   ],
   "source": [
    "df.dtypes"
   ]
  },
  {
   "cell_type": "markdown",
   "id": "b62d6e6e",
   "metadata": {},
   "source": [
    "### Quantidade de Instâncias por atributo"
   ]
  },
  {
   "cell_type": "code",
   "execution_count": 5,
   "id": "96cebe72",
   "metadata": {},
   "outputs": [
    {
     "data": {
      "text/plain": [
       "y        2994\n",
       "alpha    2994\n",
       "beta     2994\n",
       "dtype: int64"
      ]
     },
     "execution_count": 5,
     "metadata": {},
     "output_type": "execute_result"
    }
   ],
   "source": [
    "df.count()"
   ]
  },
  {
   "cell_type": "markdown",
   "id": "9ca2eb4e",
   "metadata": {},
   "source": [
    "### Determinar características"
   ]
  },
  {
   "cell_type": "code",
   "execution_count": 6,
   "id": "29b1aaa0",
   "metadata": {},
   "outputs": [
    {
     "name": "stdout",
     "output_type": "stream",
     "text": [
      "<class 'pandas.core.frame.DataFrame'>\n",
      "RangeIndex: 2994 entries, 0 to 2993\n",
      "Data columns (total 3 columns):\n",
      " #   Column  Non-Null Count  Dtype\n",
      "---  ------  --------------  -----\n",
      " 0   y       2994 non-null   int64\n",
      " 1   alpha   2994 non-null   int64\n",
      " 2   beta    2994 non-null   int64\n",
      "dtypes: int64(3)\n",
      "memory usage: 70.3 KB\n"
     ]
    }
   ],
   "source": [
    "df.info()"
   ]
  },
  {
   "cell_type": "markdown",
   "id": "01866262",
   "metadata": {},
   "source": [
    "### Descrição dos dados (Utiliza-se para validar se é necessária realizar uma normalização dos dados)\n",
    "\n",
    "\n",
    "**Normalização dos dados:** é aplicada para deixar o intervalo dos dados o mais próximo possível, pois como estaremos utilizando o algorítimo de classificação kNN (k-Nearest-Neighbor), ele irá calcular a distância entre um objeto a ser identificado (k) de seus vizinhos já identificados, e aplicálo à categoria mais próxima. Como este algorítmo realiza cálculo de distância os dados devem estar **normalizados**, para que o algorítimo não seja influênciado pelos pesos\n"
   ]
  },
  {
   "cell_type": "code",
   "execution_count": 7,
   "id": "1e3ef284",
   "metadata": {},
   "outputs": [
    {
     "data": {
      "text/html": [
       "<div>\n",
       "<style scoped>\n",
       "    .dataframe tbody tr th:only-of-type {\n",
       "        vertical-align: middle;\n",
       "    }\n",
       "\n",
       "    .dataframe tbody tr th {\n",
       "        vertical-align: top;\n",
       "    }\n",
       "\n",
       "    .dataframe thead th {\n",
       "        text-align: right;\n",
       "    }\n",
       "</style>\n",
       "<table border=\"1\" class=\"dataframe\">\n",
       "  <thead>\n",
       "    <tr style=\"text-align: right;\">\n",
       "      <th></th>\n",
       "      <th>y</th>\n",
       "      <th>alpha</th>\n",
       "      <th>beta</th>\n",
       "    </tr>\n",
       "  </thead>\n",
       "  <tbody>\n",
       "    <tr>\n",
       "      <th>count</th>\n",
       "      <td>2994.000000</td>\n",
       "      <td>2994.000000</td>\n",
       "      <td>2994.000000</td>\n",
       "    </tr>\n",
       "    <tr>\n",
       "      <th>mean</th>\n",
       "      <td>0.656981</td>\n",
       "      <td>500.917502</td>\n",
       "      <td>501.393454</td>\n",
       "    </tr>\n",
       "    <tr>\n",
       "      <th>std</th>\n",
       "      <td>0.474797</td>\n",
       "      <td>289.387318</td>\n",
       "      <td>286.933215</td>\n",
       "    </tr>\n",
       "    <tr>\n",
       "      <th>min</th>\n",
       "      <td>0.000000</td>\n",
       "      <td>0.000000</td>\n",
       "      <td>0.000000</td>\n",
       "    </tr>\n",
       "    <tr>\n",
       "      <th>25%</th>\n",
       "      <td>0.000000</td>\n",
       "      <td>248.000000</td>\n",
       "      <td>256.000000</td>\n",
       "    </tr>\n",
       "    <tr>\n",
       "      <th>50%</th>\n",
       "      <td>1.000000</td>\n",
       "      <td>505.500000</td>\n",
       "      <td>499.000000</td>\n",
       "    </tr>\n",
       "    <tr>\n",
       "      <th>75%</th>\n",
       "      <td>1.000000</td>\n",
       "      <td>755.000000</td>\n",
       "      <td>749.000000</td>\n",
       "    </tr>\n",
       "    <tr>\n",
       "      <th>max</th>\n",
       "      <td>1.000000</td>\n",
       "      <td>998.000000</td>\n",
       "      <td>999.000000</td>\n",
       "    </tr>\n",
       "  </tbody>\n",
       "</table>\n",
       "</div>"
      ],
      "text/plain": [
       "                 y        alpha         beta\n",
       "count  2994.000000  2994.000000  2994.000000\n",
       "mean      0.656981   500.917502   501.393454\n",
       "std       0.474797   289.387318   286.933215\n",
       "min       0.000000     0.000000     0.000000\n",
       "25%       0.000000   248.000000   256.000000\n",
       "50%       1.000000   505.500000   499.000000\n",
       "75%       1.000000   755.000000   749.000000\n",
       "max       1.000000   998.000000   999.000000"
      ]
     },
     "execution_count": 7,
     "metadata": {},
     "output_type": "execute_result"
    }
   ],
   "source": [
    "df.describe()"
   ]
  },
  {
   "cell_type": "markdown",
   "id": "aa189b97",
   "metadata": {},
   "source": [
    "### Análise de dados\n",
    "\n",
    "utilizando *slice* para trabalhar com uma pequena parte de um atributo do dataframe"
   ]
  },
  {
   "cell_type": "code",
   "execution_count": 8,
   "id": "46abcd9a",
   "metadata": {},
   "outputs": [
    {
     "data": {
      "text/plain": [
       "0    681\n",
       "1    517\n",
       "2    384\n",
       "3     41\n",
       "4    783\n",
       "Name: alpha, dtype: int64"
      ]
     },
     "execution_count": 8,
     "metadata": {},
     "output_type": "execute_result"
    }
   ],
   "source": [
    "df['alpha'][0:5]"
   ]
  },
  {
   "cell_type": "markdown",
   "id": "b8093ca9",
   "metadata": {},
   "source": [
    "Retornar todas as instâncias de ```df['aplha']``` maiores que $500$ "
   ]
  },
  {
   "cell_type": "code",
   "execution_count": 9,
   "id": "88bd35d4",
   "metadata": {},
   "outputs": [
    {
     "data": {
      "text/html": [
       "<div>\n",
       "<style scoped>\n",
       "    .dataframe tbody tr th:only-of-type {\n",
       "        vertical-align: middle;\n",
       "    }\n",
       "\n",
       "    .dataframe tbody tr th {\n",
       "        vertical-align: top;\n",
       "    }\n",
       "\n",
       "    .dataframe thead th {\n",
       "        text-align: right;\n",
       "    }\n",
       "</style>\n",
       "<table border=\"1\" class=\"dataframe\">\n",
       "  <thead>\n",
       "    <tr style=\"text-align: right;\">\n",
       "      <th></th>\n",
       "      <th>y</th>\n",
       "      <th>alpha</th>\n",
       "      <th>beta</th>\n",
       "    </tr>\n",
       "  </thead>\n",
       "  <tbody>\n",
       "    <tr>\n",
       "      <th>0</th>\n",
       "      <td>1</td>\n",
       "      <td>681</td>\n",
       "      <td>604</td>\n",
       "    </tr>\n",
       "    <tr>\n",
       "      <th>1</th>\n",
       "      <td>1</td>\n",
       "      <td>517</td>\n",
       "      <td>783</td>\n",
       "    </tr>\n",
       "    <tr>\n",
       "      <th>4</th>\n",
       "      <td>0</td>\n",
       "      <td>783</td>\n",
       "      <td>449</td>\n",
       "    </tr>\n",
       "    <tr>\n",
       "      <th>7</th>\n",
       "      <td>0</td>\n",
       "      <td>760</td>\n",
       "      <td>666</td>\n",
       "    </tr>\n",
       "    <tr>\n",
       "      <th>12</th>\n",
       "      <td>0</td>\n",
       "      <td>516</td>\n",
       "      <td>859</td>\n",
       "    </tr>\n",
       "    <tr>\n",
       "      <th>...</th>\n",
       "      <td>...</td>\n",
       "      <td>...</td>\n",
       "      <td>...</td>\n",
       "    </tr>\n",
       "    <tr>\n",
       "      <th>2980</th>\n",
       "      <td>1</td>\n",
       "      <td>882</td>\n",
       "      <td>432</td>\n",
       "    </tr>\n",
       "    <tr>\n",
       "      <th>2986</th>\n",
       "      <td>1</td>\n",
       "      <td>630</td>\n",
       "      <td>766</td>\n",
       "    </tr>\n",
       "    <tr>\n",
       "      <th>2989</th>\n",
       "      <td>0</td>\n",
       "      <td>722</td>\n",
       "      <td>424</td>\n",
       "    </tr>\n",
       "    <tr>\n",
       "      <th>2991</th>\n",
       "      <td>1</td>\n",
       "      <td>789</td>\n",
       "      <td>944</td>\n",
       "    </tr>\n",
       "    <tr>\n",
       "      <th>2992</th>\n",
       "      <td>1</td>\n",
       "      <td>744</td>\n",
       "      <td>951</td>\n",
       "    </tr>\n",
       "  </tbody>\n",
       "</table>\n",
       "<p>1508 rows × 3 columns</p>\n",
       "</div>"
      ],
      "text/plain": [
       "      y  alpha  beta\n",
       "0     1    681   604\n",
       "1     1    517   783\n",
       "4     0    783   449\n",
       "7     0    760   666\n",
       "12    0    516   859\n",
       "...  ..    ...   ...\n",
       "2980  1    882   432\n",
       "2986  1    630   766\n",
       "2989  0    722   424\n",
       "2991  1    789   944\n",
       "2992  1    744   951\n",
       "\n",
       "[1508 rows x 3 columns]"
      ]
     },
     "execution_count": 9,
     "metadata": {},
     "output_type": "execute_result"
    }
   ],
   "source": [
    "df[df['alpha'] > 500]"
   ]
  },
  {
   "cell_type": "markdown",
   "id": "7865a269",
   "metadata": {},
   "source": [
    "#### Quantidade de dados que possuem o atributo alpha maior que 500"
   ]
  },
  {
   "cell_type": "code",
   "execution_count": 10,
   "id": "bc7e8844",
   "metadata": {},
   "outputs": [
    {
     "data": {
      "text/plain": [
       "1508"
      ]
     },
     "execution_count": 10,
     "metadata": {},
     "output_type": "execute_result"
    }
   ],
   "source": [
    "len(df[df['alpha'] > 500])"
   ]
  },
  {
   "cell_type": "markdown",
   "id": "7f868a5f",
   "metadata": {},
   "source": [
    "Portanto, de 2994 instâncias possuimos 1508 das mesmas em que o valor do atributo alpha é maior que 500 \n",
    "\n",
    "### Ordenação dos dados\n",
    "\n",
    "É possível realizar a ordenação dos dados do dataframe baseado em um atributo.\n",
    "\n",
    "Exemplo para ordenação do dataframe baseado no atributo alpha.\n",
    "\n",
    "*o método head($n$) retorna os $n$ primeiros valores da ordenação*"
   ]
  },
  {
   "cell_type": "code",
   "execution_count": 11,
   "id": "1a0af20c",
   "metadata": {},
   "outputs": [
    {
     "data": {
      "text/html": [
       "<div>\n",
       "<style scoped>\n",
       "    .dataframe tbody tr th:only-of-type {\n",
       "        vertical-align: middle;\n",
       "    }\n",
       "\n",
       "    .dataframe tbody tr th {\n",
       "        vertical-align: top;\n",
       "    }\n",
       "\n",
       "    .dataframe thead th {\n",
       "        text-align: right;\n",
       "    }\n",
       "</style>\n",
       "<table border=\"1\" class=\"dataframe\">\n",
       "  <thead>\n",
       "    <tr style=\"text-align: right;\">\n",
       "      <th></th>\n",
       "      <th>y</th>\n",
       "      <th>alpha</th>\n",
       "      <th>beta</th>\n",
       "    </tr>\n",
       "  </thead>\n",
       "  <tbody>\n",
       "    <tr>\n",
       "      <th>716</th>\n",
       "      <td>1</td>\n",
       "      <td>0</td>\n",
       "      <td>917</td>\n",
       "    </tr>\n",
       "    <tr>\n",
       "      <th>19</th>\n",
       "      <td>1</td>\n",
       "      <td>0</td>\n",
       "      <td>287</td>\n",
       "    </tr>\n",
       "    <tr>\n",
       "      <th>948</th>\n",
       "      <td>1</td>\n",
       "      <td>0</td>\n",
       "      <td>23</td>\n",
       "    </tr>\n",
       "    <tr>\n",
       "      <th>129</th>\n",
       "      <td>1</td>\n",
       "      <td>1</td>\n",
       "      <td>442</td>\n",
       "    </tr>\n",
       "    <tr>\n",
       "      <th>1793</th>\n",
       "      <td>1</td>\n",
       "      <td>1</td>\n",
       "      <td>7</td>\n",
       "    </tr>\n",
       "  </tbody>\n",
       "</table>\n",
       "</div>"
      ],
      "text/plain": [
       "      y  alpha  beta\n",
       "716   1      0   917\n",
       "19    1      0   287\n",
       "948   1      0    23\n",
       "129   1      1   442\n",
       "1793  1      1     7"
      ]
     },
     "execution_count": 11,
     "metadata": {},
     "output_type": "execute_result"
    }
   ],
   "source": [
    "df.sort_values(by='alpha').head(5)"
   ]
  },
  {
   "cell_type": "markdown",
   "id": "f0c0c648",
   "metadata": {},
   "source": [
    "### Retornar o número de linhas e colunas de um data frame $(rows,columns)$\n",
    "\n",
    "neste caso o Data Frame possui 2994 instâncias(linhas) e 3 atributos(columns = **'y','alpha', 'beta'**)"
   ]
  },
  {
   "cell_type": "code",
   "execution_count": 12,
   "id": "7108b421",
   "metadata": {},
   "outputs": [
    {
     "data": {
      "text/plain": [
       "(2994, 3)"
      ]
     },
     "execution_count": 12,
     "metadata": {},
     "output_type": "execute_result"
    }
   ],
   "source": [
    "df.shape"
   ]
  },
  {
   "cell_type": "markdown",
   "id": "c43b4a47",
   "metadata": {},
   "source": [
    "### Quantas entradas possuem $y = 1$ e quantas entradas possuem $y=0$"
   ]
  },
  {
   "cell_type": "code",
   "execution_count": 13,
   "id": "da8c0c0f",
   "metadata": {},
   "outputs": [
    {
     "name": "stdout",
     "output_type": "stream",
     "text": [
      "Número de entradas com y=0: 1027\n",
      "Número de entradas com y=1: 1967\n"
     ]
    }
   ],
   "source": [
    "y0 = len(df[df['y'] == 0])\n",
    "y1 = len(df[df['y'] == 1])\n",
    "print(f'Número de entradas com y=0: {y0}\\nNúmero de entradas com y=1: {y1}')"
   ]
  },
  {
   "cell_type": "code",
   "execution_count": 14,
   "id": "8b431035",
   "metadata": {},
   "outputs": [
    {
     "data": {
      "text/plain": [
       "<seaborn.axisgrid.PairGrid at 0x7f3688194790>"
      ]
     },
     "execution_count": 14,
     "metadata": {},
     "output_type": "execute_result"
    },
    {
     "data": {
      "image/png": "[encoded data removed]",
      "text/plain": [
       "<Figure size 402.375x360 with 6 Axes>"
      ]
     },
     "metadata": {
      "needs_background": "light"
     },
     "output_type": "display_data"
    }
   ],
   "source": [
    "sns.pairplot(df, hue='y')"
   ]
  },
  {
   "cell_type": "markdown",
   "id": "72841887",
   "metadata": {},
   "source": [
    "## Etapas\n",
    "\n",
    "$\\rightarrow$ Criar um classificador\n",
    "\n",
    "$\\rightarrow$  Treinar o classificador\n",
    "\n",
    "$\\rightarrow$  Avaliar o classificador\n",
    "\n",
    "\n",
    "\n",
    "### Definir valores de I/O (Entrada/Saída)\n",
    "\n",
    "Input:\n",
    " * Aplha\n",
    " * Beta\n",
    " \n",
    "Output:\n",
    " * y\n",
    " \n",
    " \n",
    "### Definindo atributos de saída conhecidos"
   ]
  },
  {
   "cell_type": "code",
   "execution_count": 15,
   "id": "22d644eb",
   "metadata": {},
   "outputs": [],
   "source": [
    "# entrada = x = ['alpha','beta']\n",
    "# saida   = y = ['y']\n",
    "y = np.array(df['y'])"
   ]
  },
  {
   "cell_type": "markdown",
   "id": "f945a007",
   "metadata": {},
   "source": [
    "### Defininfo atributos de entrada conhecidos\n",
    "\n",
    "utiliza-se a notação ```dataframe.drop({column},axis=1)``` para remover a coluna de classe **y** do dataframe, retornando assim um DF somente o dataframe com atributos.\n",
    "\n",
    "neste caso **aplha** e **beta**\n"
   ]
  },
  {
   "cell_type": "code",
   "execution_count": 16,
   "id": "e1faeea1",
   "metadata": {},
   "outputs": [],
   "source": [
    "x = np.array(df.drop('y', axis=1))"
   ]
  },
  {
   "cell_type": "code",
   "execution_count": 17,
   "id": "6a1f6f61",
   "metadata": {},
   "outputs": [
    {
     "data": {
      "text/plain": [
       "array([1, 1, 0, ..., 1, 1, 1])"
      ]
     },
     "execution_count": 17,
     "metadata": {},
     "output_type": "execute_result"
    }
   ],
   "source": [
    "y"
   ]
  },
  {
   "cell_type": "code",
   "execution_count": 18,
   "id": "dbd0e28b",
   "metadata": {},
   "outputs": [
    {
     "data": {
      "text/plain": [
       "array([[681, 604],\n",
       "       [517, 783],\n",
       "       [384, 513],\n",
       "       ...,\n",
       "       [789, 944],\n",
       "       [744, 951],\n",
       "       [152, 690]])"
      ]
     },
     "execution_count": 18,
     "metadata": {},
     "output_type": "execute_result"
    }
   ],
   "source": [
    "x"
   ]
  },
  {
   "cell_type": "markdown",
   "id": "10971b9e",
   "metadata": {},
   "source": [
    "### Treinando um kNN"
   ]
  },
  {
   "cell_type": "code",
   "execution_count": 19,
   "id": "bff5be70",
   "metadata": {},
   "outputs": [
    {
     "data": {
      "text/plain": [
       "KNeighborsClassifier()"
      ]
     },
     "execution_count": 19,
     "metadata": {},
     "output_type": "execute_result"
    }
   ],
   "source": [
    "# importa o algorítmo kNN\n",
    "from sklearn.neighbors import KNeighborsClassifier\n",
    "\n",
    "knn = KNeighborsClassifier(n_neighbors=5)\n",
    "\n",
    "knn.fit(x,y)\n"
   ]
  },
  {
   "cell_type": "code",
   "execution_count": 20,
   "id": "7364f8c6",
   "metadata": {},
   "outputs": [],
   "source": [
    "predict = knn.predict(x)"
   ]
  },
  {
   "cell_type": "code",
   "execution_count": 21,
   "id": "16d566c4",
   "metadata": {},
   "outputs": [
    {
     "data": {
      "text/plain": [
       "array([1, 1, 0, ..., 1, 1, 1])"
      ]
     },
     "execution_count": 21,
     "metadata": {},
     "output_type": "execute_result"
    }
   ],
   "source": [
    "predict"
   ]
  },
  {
   "cell_type": "code",
   "execution_count": 22,
   "id": "7735d2d6",
   "metadata": {},
   "outputs": [
    {
     "data": {
      "text/plain": [
       "array([1, 1, 0, ..., 1, 1, 1])"
      ]
     },
     "execution_count": 22,
     "metadata": {},
     "output_type": "execute_result"
    }
   ],
   "source": [
    "y"
   ]
  },
  {
   "cell_type": "markdown",
   "id": "a0c9a40e",
   "metadata": {},
   "source": [
    "### Cálculo de acurácia\n",
    "\n",
    "### $$acc = \\frac{acertos}{total\\_eventos}$$\n"
   ]
  },
  {
   "cell_type": "code",
   "execution_count": 23,
   "id": "b8791d24",
   "metadata": {},
   "outputs": [
    {
     "name": "stdout",
     "output_type": "stream",
     "text": [
      "Total de eventos: 2994\n",
      "Total de acertos: 2909\n",
      "Acurária: 97%\n"
     ]
    }
   ],
   "source": [
    "totalEventos = 0\n",
    "acertos = 0\n",
    "\n",
    "for i in range(len(y)):\n",
    "    if predict[i] == y[i]: \n",
    "        acertos+=1\n",
    "    totalEventos+=1\n",
    "    \n",
    "acc = acertos/totalEventos\n",
    "print(f'Total de eventos: {totalEventos}')\n",
    "print(f'Total de acertos: {acertos}')\n",
    "print(f'Acurária: {str(acc*100)[:2]}%')"
   ]
  },
  {
   "cell_type": "markdown",
   "id": "745dc23e",
   "metadata": {},
   "source": [
    "## O algorítmo kNN\n",
    "\n",
    "k-Nearest Neighbor, determina se um elemento pertence à uma classe com base no cálculo da distância euclidiana deste elemento para os demais elementos já conhecidos. A classe é atribuída de acordo com a maioria dos k-vizinhos\n",
    "\n",
    "## Fórmula da distância euclidiana $$\\displaystyle d(x,y) = \\sqrt{\\sum_{i=0}^{n}{(x_{i}-y_{i})^{2}}}$$\n"
   ]
  },
  {
   "cell_type": "markdown",
   "id": "f5e5f653",
   "metadata": {},
   "source": [
    "## Formula para normalização dos dados $$\\displaystyle valor = \\frac{valor-valor^{min}}{valor^{max}-valor^{min}}$$"
   ]
  },
  {
   "cell_type": "markdown",
   "id": "436e5cea",
   "metadata": {},
   "source": [
    "## Exercícios\n",
    " * Faça uma busca dos melhores **hiperparâmetros** do **kNN**\n",
    " * Plote a relação entre acurácia e quantidade de vizinhos\n",
    " * Plote a relação entre quantidade de vizinhos e tempo de treinamento\n",
    " * Plote a relação entre quantidade de vizinhos e tempo de teste\n",
    " \n",
    "*Para medir o tempo utilize o código abaixo*"
   ]
  },
  {
   "cell_type": "code",
   "execution_count": 24,
   "id": "31c7d123",
   "metadata": {},
   "outputs": [
    {
     "name": "stdout",
     "output_type": "stream",
     "text": [
      "Tempo de execução: 0.035400390625\n"
     ]
    }
   ],
   "source": [
    "import time \n",
    "\n",
    "initialTime = time.time() * 1000\n",
    "\n",
    "## code...\n",
    "\n",
    "endTime = time.time() * 1000\n",
    "executionTime = endTime - initialTime\n",
    "print(f'Tempo de execução: {executionTime}')"
   ]
  },
  {
   "cell_type": "code",
   "execution_count": 25,
   "id": "19c50e59",
   "metadata": {},
   "outputs": [],
   "source": [
    "import time\n",
    "# importa o algorítmo kNN\n",
    "from sklearn.neighbors import KNeighborsClassifier\n",
    "# importa arquivo\n",
    "DataSet2D = '/run/media/marcio/3b8079ba-ded2-4741-9021-d63fedc1ef23/datasets/exemplos/2d_dataset.csv'\n",
    "# create dataset with pandas\\\n",
    "df = pd.read_csv(DataSet2D)\n",
    "# separaclao classe (y) vetor de atributos (x)\n",
    "y = np.array(df['y'])\n",
    "x = np.array(df.drop('y', axis=1))"
   ]
  },
  {
   "cell_type": "code",
   "execution_count": 26,
   "id": "f3903a64",
   "metadata": {},
   "outputs": [],
   "source": [
    "dataAccTime = []\n",
    "for qtdVizinhos in range(1,101):\n",
    "    # tempo de inicio\n",
    "    initialTime = time.time() * 1000\n",
    "    # defindindo parametro para o classificador kNN\n",
    "    knn = KNeighborsClassifier(n_neighbors=qtdVizinhos)\n",
    "    knn.fit(x,y) # treinando o kNN\n",
    "    predict = knn.predict(x) # executando uma predicao com kNN\n",
    "    # -------------------------------------------------------------\n",
    "    # resultado\n",
    "    endTime = time.time() * 1000\n",
    "    executionTime = endTime - initialTime\n",
    "    totalEventos = 0\n",
    "    acertos = 0\n",
    "    acc = 0\n",
    "    for i in range(len(y)):\n",
    "        if predict[i] == y[i]: \n",
    "            acertos+=1\n",
    "        totalEventos+=1\n",
    "    acc = acertos/totalEventos\n",
    "    dataAccTime.append((qtdVizinhos,acc,totalEventos,acertos,executionTime))\n",
    "#    print(f'\\n----------------------------------------\\nTotal de vizinhos: {qtdVizinhos}')\n",
    "#    print(f'Total de eventos: {totalEventos}')\n",
    "#    print(f'Total de acertos: {acertos}')\n",
    "#    print(f'Acurária: {int(acc*100)}%')\n",
    "#    print(f'Tempo de execução: {executionTime}')"
   ]
  },
  {
   "cell_type": "markdown",
   "id": "c5a44f7f",
   "metadata": {},
   "source": [
    "### Plotando a experiência acima com base na Acurácia X k-Vizinhos"
   ]
  },
  {
   "cell_type": "code",
   "execution_count": 27,
   "id": "c72eccaf",
   "metadata": {},
   "outputs": [
    {
     "data": {
      "image/png": "[encoded data removed]",
      "text/plain": [
       "<Figure size 432x288 with 1 Axes>"
      ]
     },
     "metadata": {
      "needs_background": "light"
     },
     "output_type": "display_data"
    }
   ],
   "source": [
    "vizinhos = [j[0] for j in dataAccTime]\n",
    "acuracia = [(j[1]*100) for j in dataAccTime]\n",
    "totalEventos = [j[2] for j in dataAccTime]\n",
    "totalAcertos = [j[3] for j in dataAccTime]\n",
    "tempo = [j[4] for j in dataAccTime]\n",
    "plt.plot(vizinhos,tempo,color='red')\n",
    "plt.plot(vizinhos,acuracia,color='orange')\n",
    "plt.show()"
   ]
  },
  {
   "cell_type": "markdown",
   "id": "6251867c",
   "metadata": {},
   "source": [
    "### Plotando a experiência com base na k-Vizinhos X Tempo"
   ]
  },
  {
   "cell_type": "code",
   "execution_count": 28,
   "id": "db5791db",
   "metadata": {},
   "outputs": [
    {
     "data": {
      "image/png": "[encoded data removed]",
      "text/plain": [
       "<Figure size 432x288 with 1 Axes>"
      ]
     },
     "metadata": {
      "needs_background": "light"
     },
     "output_type": "display_data"
    }
   ],
   "source": [
    "plt.plot(vizinhos,tempo,color='red')\n",
    "plt.show()"
   ]
  },
  {
   "cell_type": "markdown",
   "id": "002d2cf8",
   "metadata": {},
   "source": [
    "### Plotando a experiência acima com base na k-Vizinhos X Acurácia"
   ]
  },
  {
   "cell_type": "code",
   "execution_count": 29,
   "id": "06d59737",
   "metadata": {},
   "outputs": [
    {
     "data": {
      "image/png": "[encoded data removed]",
      "text/plain": [
       "<Figure size 432x288 with 1 Axes>"
      ]
     },
     "metadata": {
      "needs_background": "light"
     },
     "output_type": "display_data"
    }
   ],
   "source": [
    "plt.plot(vizinhos,acuracia,color='orange')\n",
    "plt.show()"
   ]
  },
  {
   "cell_type": "markdown",
   "id": "9469094b",
   "metadata": {},
   "source": [
    "# Pratica 3 -> Heart Disease\n",
    "\n",
    "Utilizar o dataset heart.csv\n",
    "\n",
    "Este dataset possui 76 atributos.\n",
    "\n",
    "A coluna \"target\", é do tipo inteiro 0/1(False/True), refere-se à presença de problemas de coração no paciente.\n",
    "\n",
    "atributos a serem utilizados:\n",
    " * Age\n",
    " * Sex\n",
    " * Chest pain type (4 values)\n",
    " * Resting blood presure\n",
    " * Serum cholestoral in mg/dl\n",
    " * Fasting blood sugar > 120mg/dl\n",
    " * Resting eletrocardigraphic results (1,2,3)\n",
    " * Maximum heart rate achieved\n",
    " * Exercise induced angina\n",
    " * Oldpeak = ST depression induced by exercise relative to rest\n",
    " * The slope of the peak exercise ST segment \n",
    " * Number of major vessels (0-3) colored by flourosopy \n",
    " * Thal \n",
    "   * 3 Normal\n",
    "   * 8 Fixed defect\n",
    "   * 7 Reversable defect\n",
    " * Target 0/1 (False/True)\n",
    " \n",
    " --\n",
    " \n",
    " Etapas:\n",
    " \n",
    " 1. Fazer a busca pelos hiperparâmetros"
   ]
  },
  {
   "cell_type": "code",
   "execution_count": null,
   "id": "1036f3f1",
   "metadata": {},
   "outputs": [],
   "source": []
  },
  {
   "cell_type": "code",
   "execution_count": null,
   "id": "e1413241",
   "metadata": {},
   "outputs": [],
   "source": []
  },
  {
   "cell_type": "code",
   "execution_count": null,
   "id": "b7e3cab1",
   "metadata": {},
   "outputs": [],
   "source": []
  },
  {
   "cell_type": "code",
   "execution_count": null,
   "id": "47e2d55e",
   "metadata": {},
   "outputs": [],
   "source": []
  },
  {
   "cell_type": "code",
   "execution_count": null,
   "id": "aa4f4c5e",
   "metadata": {},
   "outputs": [],
   "source": []
  },
  {
   "cell_type": "code",
   "execution_count": null,
   "id": "649acf29",
   "metadata": {},
   "outputs": [],
   "source": []
  },
  {
   "cell_type": "code",
   "execution_count": null,
   "id": "5ca0fd53",
   "metadata": {},
   "outputs": [],
   "source": []
  },
  {
   "cell_type": "code",
   "execution_count": null,
   "id": "35562196",
   "metadata": {},
   "outputs": [],
   "source": []
  },
  {
   "cell_type": "code",
   "execution_count": null,
   "id": "56e8557f",
   "metadata": {},
   "outputs": [],
   "source": []
  },
  {
   "cell_type": "code",
   "execution_count": null,
   "id": "4b2d6d28",
   "metadata": {},
   "outputs": [],
   "source": []
  },
  {
   "cell_type": "code",
   "execution_count": null,
   "id": "f7137889",
   "metadata": {},
   "outputs": [],
   "source": []
  },
  {
   "cell_type": "code",
   "execution_count": null,
   "id": "2925e7ab",
   "metadata": {},
   "outputs": [],
   "source": []
  }
 ],
 "metadata": {
  "kernelspec": {
   "display_name": "Python 3",
   "language": "python",
   "name": "python3"
  },
  "language_info": {
   "codemirror_mode": {
    "name": "ipython",
    "version": 3
   },
   "file_extension": ".py",
   "mimetype": "text/x-python",
   "name": "python",
   "nbconvert_exporter": "python",
   "pygments_lexer": "ipython3",
   "version": "3.9.6"
  }
 },
 "nbformat": 4,
 "nbformat_minor": 5
}
