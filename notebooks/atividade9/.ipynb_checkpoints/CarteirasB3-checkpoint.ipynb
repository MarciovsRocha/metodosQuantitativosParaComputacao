{
 "cells": [
  {
   "cell_type": "markdown",
   "id": "alpha-decrease",
   "metadata": {},
   "source": [
    "# Collecting Data"
   ]
  },
  {
   "cell_type": "code",
   "execution_count": null,
   "id": "permanent-royal",
   "metadata": {},
   "outputs": [],
   "source": [
    "# import session\n",
    "import numpy as np\n",
    "import pandas as pd\n",
    "import matplotlib.pyplot as plt\n",
    "import pandas_datareader.data as web\n",
    "import yfinance as yf\n",
    "yf.pdr_override()"
   ]
  },
  {
   "cell_type": "markdown",
   "id": "integrated-marketing",
   "metadata": {},
   "source": [
    "# Obtendo dados do Mercado (IBOVESPA)"
   ]
  },
  {
   "cell_type": "code",
   "execution_count": null,
   "id": "floating-prior",
   "metadata": {},
   "outputs": [
    {
     "name": "stderr",
     "output_type": "stream",
     "text": [
      "Exception in thread Thread-4:\n",
      "Traceback (most recent call last):\n",
      "  File \"/usr/lib/python3.9/threading.py\", line 973, in _bootstrap_inner\n",
      "    self.run()\n",
      "  File \"/usr/lib/python3.9/threading.py\", line 910, in run\n",
      "    self._target(*self._args, **self._kwargs)\n",
      "  File \"/home/marcio/.local/lib/python3.9/site-packages/multitasking/__init__.py\", line 102, in _run_via_pool\n",
      "    return callee(*args, **kwargs)\n",
      "  File \"/home/marcio/.local/lib/python3.9/site-packages/yfinance/multi.py\", line 169, in _download_one_threaded\n",
      "    data = _download_one(ticker, start, end, auto_adjust, back_adjust,\n",
      "  File \"/home/marcio/.local/lib/python3.9/site-packages/yfinance/multi.py\", line 181, in _download_one\n",
      "    return Ticker(ticker).history(period=period, interval=interval,\n",
      "  File \"/home/marcio/.local/lib/python3.9/site-packages/yfinance/base.py\", line 157, in history\n",
      "    data = data.json()\n",
      "  File \"/usr/lib/python3.9/site-packages/requests/models.py\", line 900, in json\n",
      "    return complexjson.loads(self.text, **kwargs)\n",
      "  File \"/usr/lib/python3.9/site-packages/simplejson/__init__.py\", line 525, in loads\n",
      "    return _default_decoder.decode(s)\n",
      "  File \"/usr/lib/python3.9/site-packages/simplejson/decoder.py\", line 370, in decode\n",
      "    obj, end = self.raw_decode(s)\n",
      "  File \"/usr/lib/python3.9/site-packages/simplejson/decoder.py\", line 400, in raw_decode\n",
      "    return self.scan_once(s, idx=_w(s, idx).end())\n",
      "simplejson.errors.JSONDecodeError: Expecting value: line 1 column 1 (char 0)\n"
     ]
    }
   ],
   "source": [
    "ibov = web.get_data_yahoo('^BVSP')"
   ]
  },
  {
   "cell_type": "markdown",
   "id": "canadian-assembly",
   "metadata": {},
   "source": [
    "## Primeiros 5 dias da bolsa"
   ]
  },
  {
   "cell_type": "code",
   "execution_count": null,
   "id": "utility-university",
   "metadata": {},
   "outputs": [],
   "source": [
    "ibov.head()"
   ]
  },
  {
   "cell_type": "markdown",
   "id": "differential-session",
   "metadata": {},
   "source": [
    "## Últimos 5 dias da bolsa "
   ]
  },
  {
   "cell_type": "code",
   "execution_count": null,
   "id": "average-field",
   "metadata": {},
   "outputs": [],
   "source": [
    "ibov.tail()"
   ]
  },
  {
   "cell_type": "markdown",
   "id": "regional-amplifier",
   "metadata": {},
   "source": [
    "## Tipos de Dados da IBOV\n",
    "\n",
    "* Open  - Abertura\n",
    "* High  - Alta\n",
    "* Low   - Baixa\n",
    "* Close - Fechamento\n",
    "* Adj Close - Preço de Fechamento ajustado\n",
    "* Volume - Volume da bolsa\n"
   ]
  },
  {
   "cell_type": "code",
   "execution_count": null,
   "id": "enabling-robinson",
   "metadata": {},
   "outputs": [],
   "source": [
    "plt.title('Fechamento IBOVESPA')\n",
    "ibov['Close'].plot(figsize=(22,8),label='IBOV')\n",
    "ibov['Close'].rolling(21).mean().plot(label='MM21')\n",
    "ibov['Close'].rolling(200).mean().plot(label='MM200')\n",
    "plt.legend()"
   ]
  },
  {
   "cell_type": "code",
   "execution_count": null,
   "id": "expressed-hands",
   "metadata": {},
   "outputs": [],
   "source": [
    "ibovFatiado = ibov[ibov.index.year == 2020]\n",
    "plt.title('Fechamento IBOVESPA')\n",
    "ibovFatiado['Close'].plot(figsize=(22,8),label='IBOV')\n",
    "ibovFatiado['Close'].rolling(21).mean().plot(label='MM21')\n",
    "ibovFatiado['Close'].rolling(200).mean().plot(label='MM200')\n",
    "plt.legend()"
   ]
  },
  {
   "cell_type": "code",
   "execution_count": null,
   "id": "acceptable-discharge",
   "metadata": {},
   "outputs": [],
   "source": [
    "startDate = '2021-04-01'\n",
    "vale3  = web.get_data_yahoo('VALE3.SA', start = startDate)\n",
    "itsa4  = web.get_data_yahoo('ITSA4.SA', start = startDate)\n",
    "elet3  = web.get_data_yahoo('ELET3.SA', start = startDate)\n",
    "bcff11 = web.get_data_yahoo('BCFF11.SA', start = startDate)\n",
    "bova11 = web.get_data_yahoo('BOVA11.SA', start = startDate)\n",
    "ivvb11 = web.get_data_yahoo('IVVB11.SA', start = startDate)\n",
    "hglg11 = web.get_data_yahoo('HGLG11.SA', start = startDate)\n",
    "shph11 = web.get_data_yahoo('SHPH11.SA', start = startDate)"
   ]
  },
  {
   "cell_type": "code",
   "execution_count": null,
   "id": "intellectual-minnesota",
   "metadata": {},
   "outputs": [],
   "source": [
    "carteiraRendaVariavel = {\n",
    "    'vale3': vale3, \n",
    "    'itsa4': itsa4, \n",
    "    'bcff11': bcff11, \n",
    "    'bova11': bova11, \n",
    "    'ivvb11': ivvb11,\n",
    "    'hglg11': hglg11,\n",
    "    'elet3': elet3,\n",
    "    'shph11': shph11\n",
    "}\n",
    "plt.title('Informe Carteira Atual')\n",
    "carteiraRendaVariavel['vale3']['Close'].plot(figsize=(22,8),label='VALE3')\n",
    "carteiraRendaVariavel['itsa4']['Close'].plot(label='ITSA4')\n",
    "carteiraRendaVariavel['bcff11']['Close'].plot(label='BCFF11')\n",
    "carteiraRendaVariavel['bova11']['Close'].plot(label='BOVA11')\n",
    "carteiraRendaVariavel['ivvb11']['Close'].plot(label='IVVB11')\n",
    "carteiraRendaVariavel['hglg11']['Close'].plot(label='HGLG11')\n",
    "carteiraRendaVariavel['elet3']['Close'].plot(label='ELET3')\n",
    "carteiraRendaVariavel['shph11']['Close'].plot(label='SHPH11')\n",
    "plt.legend()\n",
    "plt.show()"
   ]
  }
 ],
 "metadata": {
  "kernelspec": {
   "display_name": "Python 3",
   "language": "python",
   "name": "python3"
  },
  "language_info": {
   "codemirror_mode": {
    "name": "ipython",
    "version": 3
   },
   "file_extension": ".py",
   "mimetype": "text/x-python",
   "name": "python",
   "nbconvert_exporter": "python",
   "pygments_lexer": "ipython3",
   "version": "3.9.6"
  }
 },
 "nbformat": 4,
 "nbformat_minor": 5
}
