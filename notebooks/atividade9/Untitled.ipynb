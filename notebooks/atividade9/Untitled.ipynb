{
 "cells": [
  {
   "cell_type": "markdown",
   "id": "dbff3e6c-7728-4fe7-a8c4-09d854e8050c",
   "metadata": {},
   "source": [
    "# Atividade 9"
   ]
  },
  {
   "cell_type": "code",
   "execution_count": 9,
   "id": "722e496c-cfd7-4fcf-b93f-b49bfe3ffbab",
   "metadata": {},
   "outputs": [],
   "source": [
    "#import section \n",
    "import pandas as pd\n",
    "import numpy as np\n",
    "import seaborn as sns\n",
    "import matplotlib.pyplot as plt\n",
    "import math"
   ]
  },
  {
   "cell_type": "code",
   "execution_count": 2,
   "id": "1924a882-b53d-4452-97ba-0dfd4a081560",
   "metadata": {},
   "outputs": [],
   "source": [
    "# path to dataset\n",
    "recommended = '/home/marcio/projetos/faculdade/4periodo/metodosQuantitativosParaComputacao/notebooks/atividade9/datasets/recommended_trades_1.csv'\n",
    "dataFrame = pd.read_csv(recommended)"
   ]
  },
  {
   "cell_type": "code",
   "execution_count": 3,
   "id": "31a273ac-6764-4028-a4f7-98f110b9770e",
   "metadata": {},
   "outputs": [
    {
     "data": {
      "text/html": [
       "<div>\n",
       "<style scoped>\n",
       "    .dataframe tbody tr th:only-of-type {\n",
       "        vertical-align: middle;\n",
       "    }\n",
       "\n",
       "    .dataframe tbody tr th {\n",
       "        vertical-align: top;\n",
       "    }\n",
       "\n",
       "    .dataframe thead th {\n",
       "        text-align: right;\n",
       "    }\n",
       "</style>\n",
       "<table border=\"1\" class=\"dataframe\">\n",
       "  <thead>\n",
       "    <tr style=\"text-align: right;\">\n",
       "      <th></th>\n",
       "      <th>Market Capitalization</th>\n",
       "      <th>Number of Share to Buy</th>\n",
       "    </tr>\n",
       "  </thead>\n",
       "  <tbody>\n",
       "    <tr>\n",
       "      <th>count</th>\n",
       "      <td>5.050000e+02</td>\n",
       "      <td>505.000000</td>\n",
       "    </tr>\n",
       "    <tr>\n",
       "      <th>mean</th>\n",
       "      <td>8.132629e+10</td>\n",
       "      <td>40.200000</td>\n",
       "    </tr>\n",
       "    <tr>\n",
       "      <th>std</th>\n",
       "      <td>2.121852e+11</td>\n",
       "      <td>47.009472</td>\n",
       "    </tr>\n",
       "    <tr>\n",
       "      <th>min</th>\n",
       "      <td>0.000000e+00</td>\n",
       "      <td>0.000000</td>\n",
       "    </tr>\n",
       "    <tr>\n",
       "      <th>25%</th>\n",
       "      <td>1.772930e+10</td>\n",
       "      <td>13.000000</td>\n",
       "    </tr>\n",
       "    <tr>\n",
       "      <th>50%</th>\n",
       "      <td>3.098777e+10</td>\n",
       "      <td>24.000000</td>\n",
       "    </tr>\n",
       "    <tr>\n",
       "      <th>75%</th>\n",
       "      <td>6.556469e+10</td>\n",
       "      <td>48.000000</td>\n",
       "    </tr>\n",
       "    <tr>\n",
       "      <th>max</th>\n",
       "      <td>2.343545e+12</td>\n",
       "      <td>410.000000</td>\n",
       "    </tr>\n",
       "  </tbody>\n",
       "</table>\n",
       "</div>"
      ],
      "text/plain": [
       "       Market Capitalization  Number of Share to Buy\n",
       "count           5.050000e+02              505.000000\n",
       "mean            8.132629e+10               40.200000\n",
       "std             2.121852e+11               47.009472\n",
       "min             0.000000e+00                0.000000\n",
       "25%             1.772930e+10               13.000000\n",
       "50%             3.098777e+10               24.000000\n",
       "75%             6.556469e+10               48.000000\n",
       "max             2.343545e+12              410.000000"
      ]
     },
     "execution_count": 3,
     "metadata": {},
     "output_type": "execute_result"
    }
   ],
   "source": [
    "# df data description\n",
    "dataFrame.describe()"
   ]
  },
  {
   "cell_type": "code",
   "execution_count": 4,
   "id": "53a81a9a-d716-45ca-ad58-c422e0ad36ca",
   "metadata": {},
   "outputs": [
    {
     "name": "stdout",
     "output_type": "stream",
     "text": [
      "<class 'pandas.core.frame.DataFrame'>\n",
      "RangeIndex: 505 entries, 0 to 504\n",
      "Data columns (total 4 columns):\n",
      " #   Column                  Non-Null Count  Dtype  \n",
      "---  ------                  --------------  -----  \n",
      " 0   Ticker                  505 non-null    object \n",
      " 1   Stock Price             505 non-null    object \n",
      " 2   Market Capitalization   505 non-null    float64\n",
      " 3   Number of Share to Buy  505 non-null    float64\n",
      "dtypes: float64(2), object(2)\n",
      "memory usage: 15.9+ KB\n"
     ]
    }
   ],
   "source": [
    "# info about df\n",
    "dataFrame.info()"
   ]
  },
  {
   "cell_type": "code",
   "execution_count": 5,
   "id": "c2fffb41-20b1-43ff-a9ba-05f37817a87e",
   "metadata": {},
   "outputs": [],
   "source": [
    "# extract decimal value from str column\n",
    "convertToDec = lambda n: float(dataFrame['Stock Price'][n][1:])"
   ]
  },
  {
   "cell_type": "code",
   "execution_count": 6,
   "id": "675cd927-95bc-4e09-b1e4-a22b8346b4c5",
   "metadata": {},
   "outputs": [
    {
     "data": {
      "text/html": [
       "<div>\n",
       "<style scoped>\n",
       "    .dataframe tbody tr th:only-of-type {\n",
       "        vertical-align: middle;\n",
       "    }\n",
       "\n",
       "    .dataframe tbody tr th {\n",
       "        vertical-align: top;\n",
       "    }\n",
       "\n",
       "    .dataframe thead th {\n",
       "        text-align: right;\n",
       "    }\n",
       "</style>\n",
       "<table border=\"1\" class=\"dataframe\">\n",
       "  <thead>\n",
       "    <tr style=\"text-align: right;\">\n",
       "      <th></th>\n",
       "      <th>Ticker</th>\n",
       "      <th>Stock Price</th>\n",
       "      <th>Market Capitalization</th>\n",
       "      <th>Number of Share to Buy</th>\n",
       "    </tr>\n",
       "  </thead>\n",
       "  <tbody>\n",
       "    <tr>\n",
       "      <th>0</th>\n",
       "      <td>A</td>\n",
       "      <td>$155.08</td>\n",
       "      <td>4.705865e+10</td>\n",
       "      <td>18.0</td>\n",
       "    </tr>\n",
       "    <tr>\n",
       "      <th>1</th>\n",
       "      <td>AAL</td>\n",
       "      <td>$22.02</td>\n",
       "      <td>1.369795e+10</td>\n",
       "      <td>130.0</td>\n",
       "    </tr>\n",
       "    <tr>\n",
       "      <th>2</th>\n",
       "      <td>AAP</td>\n",
       "      <td>$213.33</td>\n",
       "      <td>1.372993e+10</td>\n",
       "      <td>13.0</td>\n",
       "    </tr>\n",
       "    <tr>\n",
       "      <th>3</th>\n",
       "      <td>AAPL</td>\n",
       "      <td>$141.25</td>\n",
       "      <td>2.343545e+12</td>\n",
       "      <td>20.0</td>\n",
       "    </tr>\n",
       "    <tr>\n",
       "      <th>4</th>\n",
       "      <td>ABBV</td>\n",
       "      <td>$115.40</td>\n",
       "      <td>2.054323e+11</td>\n",
       "      <td>24.0</td>\n",
       "    </tr>\n",
       "    <tr>\n",
       "      <th>...</th>\n",
       "      <td>...</td>\n",
       "      <td>...</td>\n",
       "      <td>...</td>\n",
       "      <td>...</td>\n",
       "    </tr>\n",
       "    <tr>\n",
       "      <th>500</th>\n",
       "      <td>YUM</td>\n",
       "      <td>$117.58</td>\n",
       "      <td>3.568693e+10</td>\n",
       "      <td>24.0</td>\n",
       "    </tr>\n",
       "    <tr>\n",
       "      <th>501</th>\n",
       "      <td>ZBH</td>\n",
       "      <td>$169.75</td>\n",
       "      <td>3.566319e+10</td>\n",
       "      <td>16.0</td>\n",
       "    </tr>\n",
       "    <tr>\n",
       "      <th>502</th>\n",
       "      <td>ZBRA</td>\n",
       "      <td>$539.07</td>\n",
       "      <td>2.869328e+10</td>\n",
       "      <td>5.0</td>\n",
       "    </tr>\n",
       "    <tr>\n",
       "      <th>503</th>\n",
       "      <td>ZION</td>\n",
       "      <td>$55.40</td>\n",
       "      <td>8.927102e+09</td>\n",
       "      <td>52.0</td>\n",
       "    </tr>\n",
       "    <tr>\n",
       "      <th>504</th>\n",
       "      <td>ZTS</td>\n",
       "      <td>$196.27</td>\n",
       "      <td>9.231470e+10</td>\n",
       "      <td>14.0</td>\n",
       "    </tr>\n",
       "  </tbody>\n",
       "</table>\n",
       "<p>505 rows × 4 columns</p>\n",
       "</div>"
      ],
      "text/plain": [
       "    Ticker Stock Price  Market Capitalization  Number of Share to Buy\n",
       "0        A     $155.08           4.705865e+10                    18.0\n",
       "1      AAL      $22.02           1.369795e+10                   130.0\n",
       "2      AAP     $213.33           1.372993e+10                    13.0\n",
       "3     AAPL     $141.25           2.343545e+12                    20.0\n",
       "4     ABBV     $115.40           2.054323e+11                    24.0\n",
       "..     ...         ...                    ...                     ...\n",
       "500    YUM     $117.58           3.568693e+10                    24.0\n",
       "501    ZBH     $169.75           3.566319e+10                    16.0\n",
       "502   ZBRA     $539.07           2.869328e+10                     5.0\n",
       "503   ZION      $55.40           8.927102e+09                    52.0\n",
       "504    ZTS     $196.27           9.231470e+10                    14.0\n",
       "\n",
       "[505 rows x 4 columns]"
      ]
     },
     "execution_count": 6,
     "metadata": {},
     "output_type": "execute_result"
    }
   ],
   "source": [
    "dataFrame"
   ]
  },
  {
   "cell_type": "markdown",
   "id": "06039969-0403-4ee3-a70a-230c931a72ea",
   "metadata": {},
   "source": [
    "o nosso dataframe possui 505 elementos com 3 atributos. Os cálculos abaixo serão realizados para a coluna `Number of Share to Buy`\n",
    "\n",
    "Amplitude total $$A = MaxValue - MinValue \\rightarrow 410.00 - 0.00 = 410.00$$\n",
    "\n",
    "Quantidade de classes = $$i=1+3,3*log(n) \\rightarrow 1+3,3*log(505) = $$\n"
   ]
  },
  {
   "cell_type": "code",
   "execution_count": 20,
   "id": "f7520865-6313-44b7-b2d0-728f1c517ada",
   "metadata": {},
   "outputs": [],
   "source": [
    "amplitudeTotal = lambda maxValue,minValue: maxValue-minValue\n",
    "quantidadeDeClasses = lambda q: math.ceil(1+(3.3*math.log(q,10)))\n",
    "amplitudeParaCadaClasse = lambda x,y: math.ceil(x/y)"
   ]
  },
  {
   "cell_type": "code",
   "execution_count": 30,
   "id": "27e11239-ad2b-4842-b80e-d369a4ac09fe",
   "metadata": {},
   "outputs": [],
   "source": [
    "i = quantidadeDeClasses(505)\n",
    "A = amplitudeTotal(410,0)\n",
    "h = amplitudeParaCadaClasse(A,i)\n",
    "dataFrameOrdenado = sorted(dataFrame['Number of Share to Buy'])"
   ]
  },
  {
   "cell_type": "code",
   "execution_count": 31,
   "id": "68af9d9f-5f81-47e4-b05e-a640242b33f2",
   "metadata": {},
   "outputs": [
    {
     "name": "stdout",
     "output_type": "stream",
     "text": [
      "Amplitude total: 410\n",
      "Quantidade de Classes: 10\n",
      "Amplitude para cada Classe: 41\n"
     ]
    }
   ],
   "source": [
    "print(f'Amplitude total: {A}\\nQuantidade de Classes: {i}\\nAmplitude para cada Classe: {h}')"
   ]
  },
  {
   "cell_type": "code",
   "execution_count": 61,
   "id": "32b18d92-b5da-41cc-830a-b9be13dcbd54",
   "metadata": {},
   "outputs": [],
   "source": [
    "m = []\n",
    "aux = 0\n",
    "cont = 0\n",
    "for i in range(1,math.ceil(505/h)+1):\n",
    "    cont = 0\n",
    "    for dataVal in dataFrameOrdenado:\n",
    "        if ((dataVal > aux) and (dataVal < (i*h))):\n",
    "            cont+=1\n",
    "        m.append(dataFrameOrdenado[aux:(i*h)])\n",
    "    aux+=h"
   ]
  },
  {
   "cell_type": "code",
   "execution_count": 73,
   "id": "cb3f8075-350f-4df6-bfdb-60b7f2824484",
   "metadata": {},
   "outputs": [],
   "source": [
    "i = 1\n",
    "aux = 0\n",
    "m = []\n"
   ]
  },
  {
   "cell_type": "code",
   "execution_count": null,
   "id": "7a1d262e-7dfb-4771-85f0-613b1d39daf3",
   "metadata": {},
   "outputs": [],
   "source": []
  },
  {
   "cell_type": "code",
   "execution_count": null,
   "id": "8b14b392-ca98-4adf-8d4e-f7f58ec80f41",
   "metadata": {},
   "outputs": [],
   "source": []
  }
 ],
 "metadata": {
  "kernelspec": {
   "display_name": "Python 3",
   "language": "python",
   "name": "python3"
  },
  "language_info": {
   "codemirror_mode": {
    "name": "ipython",
    "version": 3
   },
   "file_extension": ".py",
   "mimetype": "text/x-python",
   "name": "python",
   "nbconvert_exporter": "python",
   "pygments_lexer": "ipython3",
   "version": "3.9.6"
  }
 },
 "nbformat": 4,
 "nbformat_minor": 5
}
